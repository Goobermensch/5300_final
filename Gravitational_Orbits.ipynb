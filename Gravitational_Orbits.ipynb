{
 "cells": [
  {
   "cell_type": "markdown",
   "metadata": {},
   "source": [
    "# Problem 2, 5300 Final: Gravitational Orbits in Cartesian Coordinates\n",
    "## Author: Aidan Snyder, 4/28/23"
   ]
  },
  {
   "cell_type": "markdown",
   "metadata": {},
   "source": [
    "The goal of this notebook is to complete the second problem of the Physics 5300 Spring 2023 Final Problem Set, which is to solve the two-body problem for gravitational attraction in Cartesian coordinates. "
   ]
  },
  {
   "cell_type": "code",
   "execution_count": 1,
   "metadata": {},
   "outputs": [],
   "source": [
    "%matplotlib inline"
   ]
  },
  {
   "cell_type": "code",
   "execution_count": 2,
   "metadata": {},
   "outputs": [],
   "source": [
    "import numpy as np\n",
    "from scipy.integrate import odeint, solve_ivp\n",
    "import matplotlib.pyplot as plt\n",
    "\n",
    "plt.rcParams['figure.dpi'] = 100.\n",
    "# Change the common font size (smaller when higher dpi)\n",
    "font_size = 10\n",
    "plt.rcParams.update({'font.size': font_size})"
   ]
  },
  {
   "cell_type": "code",
   "execution_count": 3,
   "metadata": {},
   "outputs": [],
   "source": [
    "class GravOrbit():\n",
    "    '''\n",
    "    Utilizes Lagrange's equations in order to solve for the EOM's for 2 orbiting bodies.\n",
    "    \n",
    "    Parameters:\n",
    "    m1: mass of object 1\n",
    "    m2: mass of object 2\n",
    "    G: universal gravitational constant\n",
    "    \n",
    "    Methods:\n",
    "    dz_dt(t,z)\n",
    "        Returns RHS of the differential equation for vector z\n",
    "    '''\n",
    "    \n",
    "    def __init__(self, m1 = 1., m2 = 1., G = 1.):\n",
    "        self.m1 = m1\n",
    "        self.m2 = m2\n",
    "        self.G = G\n",
    "    \n",
    "    def dz_dt(self, t, z):\n",
    "        '''\n",
    "        For our case, vector z looks like this: \n",
    "        z[0] = x_1(t), z[1] = x_1_dot(t), z[2] = y_1(t), z[3] = y_1_dot(t)\n",
    "        z[4] = x_2(t), z[5] = x_2_dot(t), z[6] = y_2(t), z[7] = y_2_dot(t)\n",
    "        '''\n",
    "        r_12 = np.sqrt((z[0] - z[4])**2 + (z[2] - z[6])**2)\n",
    "        return [z[1], self.G * self.m2 * (z[4]-z[0]) / r_12**3., \\\n",
    "               z[3], self.G * self.m2 * (z[6]-z[2]) / r_12**3., \\\n",
    "               z[5], -self.G * self.m1 * (z[4]-z[0]) / r_12**3., \\\n",
    "               z[7], -self.G * self.m1 * (z[6]-z[2]) / r_12**3.]\n",
    "    \n",
    "    def solve_ode(self, t_pts, z_0,\n",
    "                 abserr=1.0e-8, relerr=1.0e-8):\n",
    "        solution = solve_ivp(self.dz_dt, (t_pts[0],t_pts[-1]),z_0,t_eval=t_pts,\n",
    "                            method='RK45',atol=abserr,rtol=relerr)\n",
    "        x_1,x_1_dot, y_1, y_1_dot, x_2, x_2_dot, y_2, y_2_dot = solution.y\n",
    "        return x_1,x_1_dot, y_1, y_1_dot, x_2, x_2_dot, y_2, y_2_dot\n",
    "    "
   ]
  },
  {
   "cell_type": "code",
   "execution_count": 4,
   "metadata": {},
   "outputs": [],
   "source": [
    "def plot_y_vs_x(x, y, axis_labels=None, label=None, title=None, \n",
    "                color=None, linestyle=None, semilogy=False, loglog=False,\n",
    "                ax=None):\n",
    "    \"\"\"\n",
    "    Generic plotting function: return a figure axis with a plot of y vs. x,\n",
    "    with line color and style, title, axis labels, and line label\n",
    "    \"\"\"\n",
    "    if ax is None:        # if the axis object doesn't exist, make one\n",
    "        ax = plt.gca()\n",
    "\n",
    "    if (semilogy):\n",
    "        line, = ax.semilogy(x, y, label=label, \n",
    "                            color=color, linestyle=linestyle)\n",
    "    elif (loglog):\n",
    "        line, = ax.loglog(x, y, label=label, \n",
    "                          color=color, linestyle=linestyle)\n",
    "    else:\n",
    "        line, = ax.plot(x, y, label=label, \n",
    "                    color=color, linestyle=linestyle)\n",
    "\n",
    "    if label is not None:    # if a label if passed, show the legend\n",
    "        ax.legend()\n",
    "    if title is not None:    # set a title if one if passed\n",
    "        ax.set_title(title)\n",
    "    if axis_labels is not None:  # set x-axis and y-axis labels if passed  \n",
    "        ax.set_xlabel(axis_labels[0])\n",
    "        ax.set_ylabel(axis_labels[1])\n",
    "\n",
    "    return ax, line"
   ]
  },
  {
   "cell_type": "code",
   "execution_count": 5,
   "metadata": {},
   "outputs": [],
   "source": [
    "def start_stop_indices(t_pts, plot_start, plot_stop):\n",
    "    start_index = (np.fabs(t_pts-plot_start)).argmin()  # index in t_pts array \n",
    "    stop_index = (np.fabs(t_pts-plot_stop)).argmin()  # index in t_pts array \n",
    "    return start_index, stop_index"
   ]
  },
  {
   "cell_type": "markdown",
   "metadata": {},
   "source": [
    "### Plotting"
   ]
  },
  {
   "cell_type": "code",
   "execution_count": 53,
   "metadata": {},
   "outputs": [],
   "source": [
    "orbit_labels = (r'$x$', r'$y$')\n",
    "\n",
    "t_start = 0.\n",
    "t_end = 10.\n",
    "delta_t = 0.0001\n",
    "\n",
    "t_pts = np.arange(t_start, t_end + delta_t, delta_t)"
   ]
  },
  {
   "cell_type": "code",
   "execution_count": 54,
   "metadata": {},
   "outputs": [
    {
     "data": {
      "text/plain": [
       "<bound method Figure.tight_layout of <Figure size 500x500 with 1 Axes>>"
      ]
     },
     "execution_count": 54,
     "metadata": {},
     "output_type": "execute_result"
    },
    {
     "data": {
      "image/png": "[encoded data removed]",
      "text/plain": [
       "<Figure size 500x500 with 1 Axes>"
      ]
     },
     "metadata": {
      "needs_background": "light"
     },
     "output_type": "display_data"
    }
   ],
   "source": [
    "G = 20. \n",
    "m1 = 20.\n",
    "m2 = 1.\n",
    "\n",
    "orbit1 = GravOrbit(m1,m2,G)\n",
    "\n",
    "x_1_0, x_1_dot_0 = 0.1, 0. \n",
    "y_1_0, y_1_dot_0 = 0., 0.75 \n",
    "x_2_0, x_2_dot_0 = -(m1/m2) * x_1_0, -(m1/m2) * x_1_dot_0\n",
    "y_2_0, y_2_dot_0 = -(m1/m2) * y_1_0, -(m1/m2) * y_1_dot_0\n",
    "\n",
    "z_0 = [x_1_0, x_1_dot_0, y_1_0, y_1_dot_0, x_2_0, x_2_dot_0, y_2_0, y_2_dot_0]\n",
    "x_1, x_1_dot, y_1, y_1_dot, x_2, x_2_dot, y_2, y_2_dot = orbit1.solve_ode(t_pts, z_0)\n",
    "\n",
    "fig = plt.figure(figsize=(5,5))\n",
    "ax = fig.add_subplot(1,1,1)\n",
    "\n",
    "start, stop = start_stop_indices(t_pts, t_start, t_end)\n",
    "ax.plot(x_1, y_1, color = 'maroon', label=r'$m_1$')\n",
    "ax.plot(x_2, y_2, color = 'gray', label=r'$m_2$')\n",
    "ax.set_title('Gravitational Orbit')\n",
    "ax.legend()\n",
    "\n",
    "fig.tight_layout\n",
    "#fig.savefig('.png', bbox_inches='tight')"
   ]
  },
  {
   "cell_type": "code",
   "execution_count": 55,
   "metadata": {},
   "outputs": [
    {
     "data": {
      "text/plain": [
       "<bound method Figure.tight_layout of <Figure size 500x500 with 1 Axes>>"
      ]
     },
     "execution_count": 55,
     "metadata": {},
     "output_type": "execute_result"
    },
    {
     "data": {
      "image/png": "[encoded data removed]",
      "text/plain": [
       "<Figure size 500x500 with 1 Axes>"
      ]
     },
     "metadata": {
      "needs_background": "light"
     },
     "output_type": "display_data"
    }
   ],
   "source": [
    "G = 20. \n",
    "m1 = 1000.\n",
    "m2 = 1.\n",
    "\n",
    "orbit1 = GravOrbit(m1,m2,G)\n",
    "\n",
    "x_1_0, x_1_dot_0 = 0. , 0. \n",
    "y_1_0, y_1_dot_0 = 0., 0.\n",
    "x_2_0, x_2_dot_0 = 10., 10.\n",
    "y_2_0, y_2_dot_0 = 10., -10.\n",
    "\n",
    "z_0 = [x_1_0, x_1_dot_0, y_1_0, y_1_dot_0, x_2_0, x_2_dot_0, y_2_0, y_2_dot_0]\n",
    "x_1, x_1_dot, y_1, y_1_dot, x_2, x_2_dot, y_2, y_2_dot = orbit1.solve_ode(t_pts, z_0)\n",
    "\n",
    "fig = plt.figure(figsize=(5,5))\n",
    "ax = fig.add_subplot(1,1,1)\n",
    "\n",
    "start, stop = start_stop_indices(t_pts, t_start, t_end)\n",
    "ax.plot(x_1, y_1, color = 'maroon', label=r'$m_1$')\n",
    "ax.plot(x_2, y_2, color = 'gray', label=r'$m_2$')\n",
    "ax.set_title('Gravitational Orbit')\n",
    "ax.legend()\n",
    "\n",
    "fig.tight_layout\n",
    "#fig.savefig('.png', bbox_inches='tight')"
   ]
  },
  {
   "cell_type": "code",
   "execution_count": null,
   "metadata": {},
   "outputs": [],
   "source": []
  }
 ],
 "metadata": {
  "kernelspec": {
   "display_name": "Python 3.8 (py38)",
   "language": "python",
   "name": "py38"
  },
  "language_info": {
   "codemirror_mode": {
    "name": "ipython",
    "version": 3
   },
   "file_extension": ".py",
   "mimetype": "text/x-python",
   "name": "python",
   "nbconvert_exporter": "python",
   "pygments_lexer": "ipython3",
   "version": "3.8.5"
  }
 },
 "nbformat": 4,
 "nbformat_minor": 4
}
